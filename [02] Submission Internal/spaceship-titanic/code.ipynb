{
 "cells": [
  {
   "cell_type": "markdown",
   "metadata": {},
   "source": [
    "Link Competition: https://www.kaggle.com/competitions/spaceship-titanic/overview"
   ]
  },
  {
   "cell_type": "markdown",
   "metadata": {},
   "source": [
    "setiap pdf harus memuat: \n",
    "1. deskripsi challenge\n",
    "2. link atau nama akun kalian di kaggle.\n",
    "3. penjelasan preprocess kalian dan juga EDA yang kalian lakukan terhadap data\n",
    "4. model yang dipilih dan kenapa memilih model tersebut\n",
    "5. berapa akurasi terakhir yang kalian dapatkan \n",
    "6. kalian boleh coba berkali-kali, yang kami catat adalah peringkat kalian di leader board dan akurasi yang kalian dapatkan di tanggal 29 Maret 2024 jam 09.00 WIB"
   ]
  },
  {
   "cell_type": "code",
   "execution_count": null,
   "metadata": {
    "vscode": {
     "languageId": "plaintext"
    }
   },
   "outputs": [],
   "source": []
  }
 ],
 "metadata": {
  "language_info": {
   "name": "python"
  }
 },
 "nbformat": 4,
 "nbformat_minor": 2
}
